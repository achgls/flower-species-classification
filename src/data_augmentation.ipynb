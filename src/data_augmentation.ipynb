{
 "cells": [
  {
   "cell_type": "markdown",
   "source": [
    "## Import packages"
   ],
   "metadata": {
    "collapsed": false,
    "pycharm": {
     "name": "#%% md\n"
    }
   }
  },
  {
   "cell_type": "code",
   "execution_count": 5,
   "metadata": {
    "collapsed": true,
    "pycharm": {
     "name": "#%%\n"
    }
   },
   "outputs": [],
   "source": [
    "import utils\n",
    "import tensorflow as tf"
   ]
  },
  {
   "cell_type": "markdown",
   "source": [
    "## Data augmentation parameters"
   ],
   "metadata": {
    "collapsed": false,
    "pycharm": {
     "name": "#%% md\n"
    }
   }
  },
  {
   "cell_type": "markdown",
   "source": [
    "To fix the imbalanced classed problem, you want the augmented data to have a number of samples for species $i$ equal to:\n",
    "$$ \\frac{N}{n_{i}} \\times \\frac{C}{K} $$\n",
    "with:\n",
    "- $N$ being the total size of the original dataset\n",
    "- $n_i$ the number of samples for species $i$ in the original dataset\n",
    "- $C$ the augmentation factor\n",
    "- $K$ the number of species, i.e K = 8"
   ],
   "metadata": {
    "collapsed": false,
    "pycharm": {
     "name": "#%% md\n"
    }
   }
  },
  {
   "cell_type": "code",
   "execution_count": 3,
   "outputs": [
    {
     "data": {
      "text/plain": "96"
     },
     "execution_count": 3,
     "metadata": {},
     "output_type": "execute_result"
    }
   ],
   "source": [
    "BALANCE_CLASSES: bool = True # Should the augmented data have as many samples in each species ?\n",
    "AUGMENTATION_FACTOR: float = 5. # The size factor that we want to multiply our data with\n",
    "RNG_SEED: int = 42 # The seed for the random effects of data augmentation\n",
    "\n",
    "# Augmented Data Generator parameters\n",
    "# Transformations\n",
    "ROTATION_RANGE: float = 30. # Max rotation in degrees\n",
    "ZOOM_RANGE: float = 0.3 # Max zoom\n",
    "WIDTH_SHIFT_RANGE: int = 20 # Horizontal shift (in pixels)\n",
    "HEIGHT_SHIFT_RANGE: int = 20 # Vertical shift (in pixels)\n",
    "HORIZONTAL_FLIP: bool = True # Horizontal flip\n",
    "VERTICAL_FLIP: bool = True # Vertical flip\n",
    "BRIGHTNESS_SHIFT_RANGE: list[float] = [0.5, 1.2] # Minimum and max brightness scaling\n",
    "SHEAR_RANGE: float = 5. # Max shear in degrees\n",
    "\n",
    "FILL_MODE: str = \"reflect\" # Filling method for out-of-border pixels"
   ],
   "metadata": {
    "collapsed": false,
    "pycharm": {
     "name": "#%%\n"
    }
   }
  }
 ],
 "metadata": {
  "kernelspec": {
   "display_name": "Python 3",
   "language": "python",
   "name": "python3"
  },
  "language_info": {
   "codemirror_mode": {
    "name": "ipython",
    "version": 2
   },
   "file_extension": ".py",
   "mimetype": "text/x-python",
   "name": "python",
   "nbconvert_exporter": "python",
   "pygments_lexer": "ipython2",
   "version": "2.7.6"
  }
 },
 "nbformat": 4,
 "nbformat_minor": 0
}